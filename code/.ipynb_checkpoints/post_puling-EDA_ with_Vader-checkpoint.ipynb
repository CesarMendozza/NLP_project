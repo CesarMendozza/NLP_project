{
 "cells": [
  {
   "cell_type": "code",
   "execution_count": 37,
   "metadata": {},
   "outputs": [],
   "source": [
    "from datetime import datetime \n",
    "import time \n",
    "import pandas as pd \n",
    "import requests\n",
    "import re"
   ]
  },
  {
   "cell_type": "code",
   "execution_count": 25,
   "metadata": {},
   "outputs": [],
   "source": [
    "url = 'https://www.reddit.com/hot.json'"
   ]
  },
  {
   "cell_type": "code",
   "execution_count": 26,
   "metadata": {},
   "outputs": [],
   "source": [
    "headers = {'User-agent': 'el muneco'}"
   ]
  },
  {
   "cell_type": "code",
   "execution_count": 27,
   "metadata": {},
   "outputs": [
    {
     "data": {
      "text/plain": [
       "<Response [200]>"
      ]
     },
     "execution_count": 27,
     "metadata": {},
     "output_type": "execute_result"
    }
   ],
   "source": [
    "res = requests.get(url, headers=headers)\n",
    "res"
   ]
  },
  {
   "cell_type": "code",
   "execution_count": null,
   "metadata": {},
   "outputs": [],
   "source": []
  },
  {
   "cell_type": "code",
   "execution_count": 28,
   "metadata": {},
   "outputs": [],
   "source": [
    "def scrape_reddit_posts(url_tag, header, loops, waittime, filename): \n",
    "    posts = []\n",
    "    after = None\n",
    "    for i in range(loops):\n",
    "        print(i)\n",
    "        if after == None:\n",
    "            params = {}\n",
    "        else:\n",
    "            params = {'after': after}\n",
    "        url = 'https://www.reddit.com/r/'+url_tag\n",
    "        res = requests.get(url,params=params,headers=headers)\n",
    "        if res.status_code == 200:\n",
    "\n",
    "            data_json = res.json()\n",
    "            after = data_json['data']['after']\n",
    "            for row in data_json['data']['children']:\n",
    "                post = {}\n",
    "                post['subreddit'] = row['data']['subreddit']\n",
    "                post['title'] = row['data']['title']\n",
    "                post['num_comments'] = row['data']['num_comments']\n",
    "                post['ups'] = row['data']['ups']\n",
    "                post['downs'] = row['data']['downs']\n",
    "                post['likes'] = row['data']['likes']\n",
    "                post['score'] = row['data']['score']\n",
    "                post['view_count'] = row['data']['view_count']\n",
    "                post['url'] = row['data']['url']\n",
    "                post['time_of_pull'] = datetime.now()\n",
    "                posts.append(post)\n",
    "        else:\n",
    "            print(res.status_code)\n",
    "            break\n",
    "        time.sleep(waittime)   \n",
    "    df = pd.DataFrame(posts)\n",
    "    now = datetime.now()\n",
    "    df.to_csv(filename+now.strftime('%Y%m%d%H%S'),index=False)"
   ]
  },
  {
   "cell_type": "code",
   "execution_count": 65,
   "metadata": {
    "collapsed": true
   },
   "outputs": [
    {
     "name": "stdout",
     "output_type": "stream",
     "text": [
      "0\n",
      "1\n",
      "2\n",
      "3\n",
      "4\n",
      "5\n",
      "6\n",
      "7\n",
      "8\n",
      "9\n",
      "10\n",
      "11\n",
      "12\n",
      "13\n",
      "14\n",
      "15\n",
      "16\n",
      "17\n",
      "18\n",
      "19\n",
      "20\n",
      "21\n",
      "22\n",
      "23\n",
      "24\n",
      "25\n",
      "26\n",
      "27\n",
      "28\n",
      "29\n",
      "30\n",
      "31\n",
      "32\n",
      "33\n",
      "34\n",
      "35\n",
      "36\n",
      "37\n",
      "38\n",
      "39\n"
     ]
    }
   ],
   "source": [
    "scrape_reddit_posts('football.json',header,40,1.5,'Reddit_football_')"
   ]
  },
  {
   "cell_type": "code",
   "execution_count": null,
   "metadata": {},
   "outputs": [],
   "source": [
    "scrape_reddit_posts('nfl.json',header,40,1.5,'Reddit_nfl_')"
   ]
  },
  {
   "cell_type": "markdown",
   "metadata": {},
   "source": [
    "### cleaning and EDA"
   ]
  },
  {
   "cell_type": "code",
   "execution_count": 29,
   "metadata": {},
   "outputs": [],
   "source": [
    "nfl = pd.read_csv('../data/Reddit_nfl_201812161451')\n",
    "nfl.drop(columns=['downs', 'likes','view_count'], inplace = True)"
   ]
  },
  {
   "cell_type": "code",
   "execution_count": 30,
   "metadata": {},
   "outputs": [],
   "source": [
    "fut = pd.read_csv('../data/Reddit_football_201812161530')\n",
    "fut.drop(columns=['downs', 'likes', 'view_count'], inplace = True)"
   ]
  },
  {
   "cell_type": "code",
   "execution_count": 31,
   "metadata": {},
   "outputs": [
    {
     "data": {
      "text/html": [
       "<div>\n",
       "<style scoped>\n",
       "    .dataframe tbody tr th:only-of-type {\n",
       "        vertical-align: middle;\n",
       "    }\n",
       "\n",
       "    .dataframe tbody tr th {\n",
       "        vertical-align: top;\n",
       "    }\n",
       "\n",
       "    .dataframe thead th {\n",
       "        text-align: right;\n",
       "    }\n",
       "</style>\n",
       "<table border=\"1\" class=\"dataframe\">\n",
       "  <thead>\n",
       "    <tr style=\"text-align: right;\">\n",
       "      <th></th>\n",
       "      <th>num_comments</th>\n",
       "      <th>score</th>\n",
       "      <th>subreddit</th>\n",
       "      <th>time_of_pull</th>\n",
       "      <th>title</th>\n",
       "      <th>ups</th>\n",
       "      <th>url</th>\n",
       "    </tr>\n",
       "  </thead>\n",
       "  <tbody>\n",
       "    <tr>\n",
       "      <th>0</th>\n",
       "      <td>0</td>\n",
       "      <td>2</td>\n",
       "      <td>football</td>\n",
       "      <td>2018-12-16 15:21:10.471588</td>\n",
       "      <td>Weekly /r/Football Discussion - December 11, 2018</td>\n",
       "      <td>2</td>\n",
       "      <td>https://www.reddit.com/r/football/comments/a5a...</td>\n",
       "    </tr>\n",
       "    <tr>\n",
       "      <th>1</th>\n",
       "      <td>48</td>\n",
       "      <td>34</td>\n",
       "      <td>football</td>\n",
       "      <td>2018-12-16 15:21:10.471597</td>\n",
       "      <td>Hi 🙂</td>\n",
       "      <td>34</td>\n",
       "      <td>https://www.reddit.com/r/football/comments/a6m...</td>\n",
       "    </tr>\n",
       "    <tr>\n",
       "      <th>2</th>\n",
       "      <td>0</td>\n",
       "      <td>2</td>\n",
       "      <td>football</td>\n",
       "      <td>2018-12-16 15:21:10.471599</td>\n",
       "      <td>Match Thread: RB Leipzig vs Mainz [Regular Sea...</td>\n",
       "      <td>2</td>\n",
       "      <td>https://www.reddit.com/r/football/comments/a6p...</td>\n",
       "    </tr>\n",
       "    <tr>\n",
       "      <th>3</th>\n",
       "      <td>1</td>\n",
       "      <td>2</td>\n",
       "      <td>football</td>\n",
       "      <td>2018-12-16 15:21:10.471601</td>\n",
       "      <td>Dier injury causes fans to call for January sp...</td>\n",
       "      <td>2</td>\n",
       "      <td>https://www.football.london/tottenham-hotspur-...</td>\n",
       "    </tr>\n",
       "    <tr>\n",
       "      <th>4</th>\n",
       "      <td>0</td>\n",
       "      <td>6</td>\n",
       "      <td>football</td>\n",
       "      <td>2018-12-16 15:21:10.471604</td>\n",
       "      <td>Ten Likely January Window Stories and how they...</td>\n",
       "      <td>6</td>\n",
       "      <td>https://theathleteshub.org/2018/12/15/10-poten...</td>\n",
       "    </tr>\n",
       "  </tbody>\n",
       "</table>\n",
       "</div>"
      ],
      "text/plain": [
       "   num_comments  score subreddit                time_of_pull  \\\n",
       "0             0      2  football  2018-12-16 15:21:10.471588   \n",
       "1            48     34  football  2018-12-16 15:21:10.471597   \n",
       "2             0      2  football  2018-12-16 15:21:10.471599   \n",
       "3             1      2  football  2018-12-16 15:21:10.471601   \n",
       "4             0      6  football  2018-12-16 15:21:10.471604   \n",
       "\n",
       "                                               title  ups  \\\n",
       "0  Weekly /r/Football Discussion - December 11, 2018    2   \n",
       "1                                               Hi 🙂   34   \n",
       "2  Match Thread: RB Leipzig vs Mainz [Regular Sea...    2   \n",
       "3  Dier injury causes fans to call for January sp...    2   \n",
       "4  Ten Likely January Window Stories and how they...    6   \n",
       "\n",
       "                                                 url  \n",
       "0  https://www.reddit.com/r/football/comments/a5a...  \n",
       "1  https://www.reddit.com/r/football/comments/a6m...  \n",
       "2  https://www.reddit.com/r/football/comments/a6p...  \n",
       "3  https://www.football.london/tottenham-hotspur-...  \n",
       "4  https://theathleteshub.org/2018/12/15/10-poten...  "
      ]
     },
     "execution_count": 31,
     "metadata": {},
     "output_type": "execute_result"
    }
   ],
   "source": [
    "fut.head()"
   ]
  },
  {
   "cell_type": "code",
   "execution_count": 32,
   "metadata": {
    "scrolled": true
   },
   "outputs": [
    {
     "name": "stdout",
     "output_type": "stream",
     "text": [
      "<class 'pandas.core.frame.DataFrame'>\n",
      "RangeIndex: 999 entries, 0 to 998\n",
      "Data columns (total 7 columns):\n",
      "num_comments    999 non-null int64\n",
      "score           999 non-null int64\n",
      "subreddit       999 non-null object\n",
      "time_of_pull    999 non-null object\n",
      "title           999 non-null object\n",
      "ups             999 non-null int64\n",
      "url             999 non-null object\n",
      "dtypes: int64(3), object(4)\n",
      "memory usage: 54.7+ KB\n"
     ]
    }
   ],
   "source": [
    "nfl.info()"
   ]
  },
  {
   "cell_type": "code",
   "execution_count": 33,
   "metadata": {},
   "outputs": [],
   "source": [
    "frames = [fut,nfl]\n",
    "df = pd.concat(frames)"
   ]
  },
  {
   "cell_type": "code",
   "execution_count": 34,
   "metadata": {},
   "outputs": [],
   "source": [
    "df['is_juve'] = df['subreddit'].map(lambda x: 1 if x == 'football' else 0)"
   ]
  },
  {
   "cell_type": "code",
   "execution_count": 35,
   "metadata": {},
   "outputs": [
    {
     "data": {
      "text/html": [
       "<div>\n",
       "<style scoped>\n",
       "    .dataframe tbody tr th:only-of-type {\n",
       "        vertical-align: middle;\n",
       "    }\n",
       "\n",
       "    .dataframe tbody tr th {\n",
       "        vertical-align: top;\n",
       "    }\n",
       "\n",
       "    .dataframe thead th {\n",
       "        text-align: right;\n",
       "    }\n",
       "</style>\n",
       "<table border=\"1\" class=\"dataframe\">\n",
       "  <thead>\n",
       "    <tr style=\"text-align: right;\">\n",
       "      <th></th>\n",
       "      <th>num_comments</th>\n",
       "      <th>score</th>\n",
       "      <th>subreddit</th>\n",
       "      <th>time_of_pull</th>\n",
       "      <th>title</th>\n",
       "      <th>ups</th>\n",
       "      <th>url</th>\n",
       "      <th>is_juve</th>\n",
       "    </tr>\n",
       "  </thead>\n",
       "  <tbody>\n",
       "    <tr>\n",
       "      <th>0</th>\n",
       "      <td>0</td>\n",
       "      <td>2</td>\n",
       "      <td>football</td>\n",
       "      <td>2018-12-16 15:21:10.471588</td>\n",
       "      <td>Weekly /r/Football Discussion - December 11, 2018</td>\n",
       "      <td>2</td>\n",
       "      <td>https://www.reddit.com/r/football/comments/a5a...</td>\n",
       "      <td>1</td>\n",
       "    </tr>\n",
       "    <tr>\n",
       "      <th>1</th>\n",
       "      <td>48</td>\n",
       "      <td>34</td>\n",
       "      <td>football</td>\n",
       "      <td>2018-12-16 15:21:10.471597</td>\n",
       "      <td>Hi 🙂</td>\n",
       "      <td>34</td>\n",
       "      <td>https://www.reddit.com/r/football/comments/a6m...</td>\n",
       "      <td>1</td>\n",
       "    </tr>\n",
       "    <tr>\n",
       "      <th>2</th>\n",
       "      <td>0</td>\n",
       "      <td>2</td>\n",
       "      <td>football</td>\n",
       "      <td>2018-12-16 15:21:10.471599</td>\n",
       "      <td>Match Thread: RB Leipzig vs Mainz [Regular Sea...</td>\n",
       "      <td>2</td>\n",
       "      <td>https://www.reddit.com/r/football/comments/a6p...</td>\n",
       "      <td>1</td>\n",
       "    </tr>\n",
       "    <tr>\n",
       "      <th>3</th>\n",
       "      <td>1</td>\n",
       "      <td>2</td>\n",
       "      <td>football</td>\n",
       "      <td>2018-12-16 15:21:10.471601</td>\n",
       "      <td>Dier injury causes fans to call for January sp...</td>\n",
       "      <td>2</td>\n",
       "      <td>https://www.football.london/tottenham-hotspur-...</td>\n",
       "      <td>1</td>\n",
       "    </tr>\n",
       "    <tr>\n",
       "      <th>4</th>\n",
       "      <td>0</td>\n",
       "      <td>6</td>\n",
       "      <td>football</td>\n",
       "      <td>2018-12-16 15:21:10.471604</td>\n",
       "      <td>Ten Likely January Window Stories and how they...</td>\n",
       "      <td>6</td>\n",
       "      <td>https://theathleteshub.org/2018/12/15/10-poten...</td>\n",
       "      <td>1</td>\n",
       "    </tr>\n",
       "  </tbody>\n",
       "</table>\n",
       "</div>"
      ],
      "text/plain": [
       "   num_comments  score subreddit                time_of_pull  \\\n",
       "0             0      2  football  2018-12-16 15:21:10.471588   \n",
       "1            48     34  football  2018-12-16 15:21:10.471597   \n",
       "2             0      2  football  2018-12-16 15:21:10.471599   \n",
       "3             1      2  football  2018-12-16 15:21:10.471601   \n",
       "4             0      6  football  2018-12-16 15:21:10.471604   \n",
       "\n",
       "                                               title  ups  \\\n",
       "0  Weekly /r/Football Discussion - December 11, 2018    2   \n",
       "1                                               Hi 🙂   34   \n",
       "2  Match Thread: RB Leipzig vs Mainz [Regular Sea...    2   \n",
       "3  Dier injury causes fans to call for January sp...    2   \n",
       "4  Ten Likely January Window Stories and how they...    6   \n",
       "\n",
       "                                                 url  is_juve  \n",
       "0  https://www.reddit.com/r/football/comments/a5a...        1  \n",
       "1  https://www.reddit.com/r/football/comments/a6m...        1  \n",
       "2  https://www.reddit.com/r/football/comments/a6p...        1  \n",
       "3  https://www.football.london/tottenham-hotspur-...        1  \n",
       "4  https://theathleteshub.org/2018/12/15/10-poten...        1  "
      ]
     },
     "execution_count": 35,
     "metadata": {},
     "output_type": "execute_result"
    }
   ],
   "source": [
    "df.head()"
   ]
  },
  {
   "cell_type": "code",
   "execution_count": 36,
   "metadata": {},
   "outputs": [
    {
     "data": {
      "text/plain": [
       "nfl         0.503782\n",
       "football    0.496218\n",
       "Name: subreddit, dtype: float64"
      ]
     },
     "execution_count": 36,
     "metadata": {},
     "output_type": "execute_result"
    }
   ],
   "source": [
    "#this is good, pretty even classification \n",
    "df['subreddit'].value_counts(normalize=True)"
   ]
  },
  {
   "cell_type": "code",
   "execution_count": null,
   "metadata": {},
   "outputs": [],
   "source": [
    "#parse that shit "
   ]
  }
 ],
 "metadata": {
  "kernelspec": {
   "display_name": "Python 3",
   "language": "python",
   "name": "python3"
  },
  "language_info": {
   "codemirror_mode": {
    "name": "ipython",
    "version": 3
   },
   "file_extension": ".py",
   "mimetype": "text/x-python",
   "name": "python",
   "nbconvert_exporter": "python",
   "pygments_lexer": "ipython3",
   "version": "3.6.6"
  }
 },
 "nbformat": 4,
 "nbformat_minor": 2
}
