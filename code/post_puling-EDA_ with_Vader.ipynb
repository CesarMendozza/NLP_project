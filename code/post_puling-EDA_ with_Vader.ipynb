{
 "cells": [
  {
   "cell_type": "code",
   "execution_count": 1,
   "metadata": {},
   "outputs": [],
   "source": [
    "from datetime import datetime \n",
    "import time \n",
    "import pandas as pd \n",
    "import requests\n",
    "import re\n",
    "from nltk.sentiment.vader import SentimentIntensityAnalyzer\n",
    "import matplotlib.pyplot as plt\n",
    "import seaborn as sns\n",
    "# easier to see full text with a bigger maxwidth:\n",
    "pd.options.display.max_colwidth = 200 #allows us to see more of the text "
   ]
  },
  {
   "cell_type": "code",
   "execution_count": 174,
   "metadata": {},
   "outputs": [],
   "source": [
    "url = 'https://www.reddit.com/hot.json'"
   ]
  },
  {
   "cell_type": "code",
   "execution_count": 175,
   "metadata": {},
   "outputs": [],
   "source": [
    "header = {'User-agent': 'el muneco'}"
   ]
  },
  {
   "cell_type": "code",
   "execution_count": 176,
   "metadata": {},
   "outputs": [
    {
     "data": {
      "text/plain": [
       "<Response [200]>"
      ]
     },
     "execution_count": 176,
     "metadata": {},
     "output_type": "execute_result"
    }
   ],
   "source": [
    "res = requests.get(url, headers=headers)\n",
    "res"
   ]
  },
  {
   "cell_type": "code",
   "execution_count": null,
   "metadata": {},
   "outputs": [],
   "source": []
  },
  {
   "cell_type": "code",
   "execution_count": 9,
   "metadata": {},
   "outputs": [],
   "source": [
    "def scrape_reddit_posts(url_tag, header, loops, waittime, filename): \n",
    "    posts = []\n",
    "    after = None\n",
    "    for i in range(loops):\n",
    "        print(i)\n",
    "        if after == None:\n",
    "            params = {}\n",
    "        else:\n",
    "            params = {'after': after}\n",
    "        url = 'https://www.reddit.com/r/'+url_tag\n",
    "        res = requests.get(url,params=params,headers=headers)\n",
    "        if res.status_code == 200:\n",
    "\n",
    "            data_json = res.json()\n",
    "            after = data_json['data']['after']\n",
    "            for row in data_json['data']['children']:\n",
    "                post = {}\n",
    "                post['subreddit'] = row['data']['subreddit']\n",
    "                post['title'] = row['data']['title']\n",
    "                post['num_comments'] = row['data']['num_comments']\n",
    "                post['ups'] = row['data']['ups']\n",
    "                post['downs'] = row['data']['downs']\n",
    "                post['likes'] = row['data']['likes']\n",
    "                post['score'] = row['data']['score']\n",
    "                post['view_count'] = row['data']['view_count']\n",
    "                post['url'] = row['data']['url']\n",
    "                post['time_of_pull'] = datetime.now()\n",
    "                posts.append(post)\n",
    "        else:\n",
    "            print(res.status_code)\n",
    "            break\n",
    "        time.sleep(waittime)   \n",
    "    df = pd.DataFrame(posts)\n",
    "    now = datetime.now()\n",
    "    df.to_csv(filename+now.strftime('%Y%m%d%H%S'),index=False)"
   ]
  },
  {
   "cell_type": "code",
   "execution_count": 11,
   "metadata": {},
   "outputs": [],
   "source": [
    "scrape_reddit_posts('football.json',header,40,1.5,'Reddit_football_')"
   ]
  },
  {
   "cell_type": "code",
   "execution_count": null,
   "metadata": {},
   "outputs": [],
   "source": [
    "scrape_reddit_posts('nfl.json',header,40,1.5,'Reddit_nfl_')"
   ]
  },
  {
   "cell_type": "markdown",
   "metadata": {},
   "source": [
    "### cleaning and EDA"
   ]
  },
  {
   "cell_type": "code",
   "execution_count": 2,
   "metadata": {},
   "outputs": [],
   "source": [
    "nfl = pd.read_csv('../data/Reddit_nfl_201812161451')\n",
    "nfl.drop(columns=['downs', 'likes','view_count'], inplace = True)"
   ]
  },
  {
   "cell_type": "code",
   "execution_count": 3,
   "metadata": {},
   "outputs": [],
   "source": [
    "fut = pd.read_csv('../data/Reddit_football_201812161530')\n",
    "fut.drop(columns=['downs', 'likes', 'view_count'], inplace = True)"
   ]
  },
  {
   "cell_type": "code",
   "execution_count": 4,
   "metadata": {},
   "outputs": [
    {
     "data": {
      "text/plain": [
       "(999, 7)"
      ]
     },
     "execution_count": 4,
     "metadata": {},
     "output_type": "execute_result"
    }
   ],
   "source": [
    "nfl.shape"
   ]
  },
  {
   "cell_type": "code",
   "execution_count": 5,
   "metadata": {},
   "outputs": [
    {
     "data": {
      "text/plain": [
       "(984, 7)"
      ]
     },
     "execution_count": 5,
     "metadata": {},
     "output_type": "execute_result"
    }
   ],
   "source": [
    "fut.shape"
   ]
  },
  {
   "cell_type": "code",
   "execution_count": 6,
   "metadata": {
    "scrolled": true
   },
   "outputs": [
    {
     "name": "stdout",
     "output_type": "stream",
     "text": [
      "<class 'pandas.core.frame.DataFrame'>\n",
      "RangeIndex: 999 entries, 0 to 998\n",
      "Data columns (total 7 columns):\n",
      "num_comments    999 non-null int64\n",
      "score           999 non-null int64\n",
      "subreddit       999 non-null object\n",
      "time_of_pull    999 non-null object\n",
      "title           999 non-null object\n",
      "ups             999 non-null int64\n",
      "url             999 non-null object\n",
      "dtypes: int64(3), object(4)\n",
      "memory usage: 54.7+ KB\n"
     ]
    }
   ],
   "source": [
    "nfl.info()"
   ]
  },
  {
   "cell_type": "code",
   "execution_count": 10,
   "metadata": {},
   "outputs": [],
   "source": [
    "frames = [fut,nfl]\n",
    "df = pd.concat(frames)"
   ]
  },
  {
   "cell_type": "code",
   "execution_count": 11,
   "metadata": {},
   "outputs": [],
   "source": [
    "df['is_juve'] = df['subreddit'].map(lambda x: 1 if x == 'football' else 0)"
   ]
  },
  {
   "cell_type": "code",
   "execution_count": null,
   "metadata": {},
   "outputs": [],
   "source": []
  },
  {
   "cell_type": "code",
   "execution_count": 13,
   "metadata": {},
   "outputs": [
    {
     "data": {
      "text/plain": [
       "nfl         0.503782\n",
       "football    0.496218\n",
       "Name: subreddit, dtype: float64"
      ]
     },
     "execution_count": 13,
     "metadata": {},
     "output_type": "execute_result"
    }
   ],
   "source": [
    "#this is good, pretty even classification \n",
    "df['subreddit'].value_counts(normalize=True)"
   ]
  },
  {
   "cell_type": "code",
   "execution_count": 14,
   "metadata": {},
   "outputs": [
    {
     "data": {
      "text/plain": [
       "subreddit  is_juve\n",
       "football   1          984\n",
       "nfl        0          999\n",
       "Name: is_juve, dtype: int64"
      ]
     },
     "execution_count": 14,
     "metadata": {},
     "output_type": "execute_result"
    }
   ],
   "source": [
    "df.groupby('subreddit').is_juve.value_counts()"
   ]
  },
  {
   "cell_type": "code",
   "execution_count": 15,
   "metadata": {},
   "outputs": [
    {
     "data": {
      "text/html": [
       "<div>\n",
       "<style scoped>\n",
       "    .dataframe tbody tr th:only-of-type {\n",
       "        vertical-align: middle;\n",
       "    }\n",
       "\n",
       "    .dataframe tbody tr th {\n",
       "        vertical-align: top;\n",
       "    }\n",
       "\n",
       "    .dataframe thead th {\n",
       "        text-align: right;\n",
       "    }\n",
       "</style>\n",
       "<table border=\"1\" class=\"dataframe\">\n",
       "  <thead>\n",
       "    <tr style=\"text-align: right;\">\n",
       "      <th>is_juve</th>\n",
       "      <th>0</th>\n",
       "      <th>1</th>\n",
       "    </tr>\n",
       "    <tr>\n",
       "      <th>subreddit</th>\n",
       "      <th></th>\n",
       "      <th></th>\n",
       "    </tr>\n",
       "  </thead>\n",
       "  <tbody>\n",
       "    <tr>\n",
       "      <th>football</th>\n",
       "      <td>0</td>\n",
       "      <td>984</td>\n",
       "    </tr>\n",
       "    <tr>\n",
       "      <th>nfl</th>\n",
       "      <td>999</td>\n",
       "      <td>0</td>\n",
       "    </tr>\n",
       "  </tbody>\n",
       "</table>\n",
       "</div>"
      ],
      "text/plain": [
       "is_juve      0    1\n",
       "subreddit          \n",
       "football     0  984\n",
       "nfl        999    0"
      ]
     },
     "execution_count": 15,
     "metadata": {},
     "output_type": "execute_result"
    }
   ],
   "source": [
    "pd.crosstab(df.subreddit,df.is_juve)"
   ]
  },
  {
   "cell_type": "code",
   "execution_count": 16,
   "metadata": {},
   "outputs": [],
   "source": [
    "corpus = [title for title in df[df['subreddit'] \\\n",
    "                                == 'nfl']['title']]\n"
   ]
  },
  {
   "cell_type": "code",
   "execution_count": 17,
   "metadata": {},
   "outputs": [],
   "source": [
    "footy_mob = [title for title in df[df['subreddit'] \\\n",
    "                                   == 'football']['title']] # if 'football' in title.lower()]\n"
   ]
  },
  {
   "cell_type": "code",
   "execution_count": 166,
   "metadata": {},
   "outputs": [],
   "source": [
    "df['Avg length title'] = [(len(each.split())) for each in df['title']]"
   ]
  },
  {
   "cell_type": "code",
   "execution_count": 184,
   "metadata": {},
   "outputs": [
    {
     "data": {
      "text/plain": [
       "1983"
      ]
     },
     "execution_count": 184,
     "metadata": {},
     "output_type": "execute_result"
    }
   ],
   "source": [
    "pol_scores = [sia.polarity_scores(each) for each in df[df['Avg length title'] > 0]['title']]\n",
    "len(pol_scores)"
   ]
  },
  {
   "cell_type": "code",
   "execution_count": 179,
   "metadata": {},
   "outputs": [],
   "source": [
    "df['compound'] = [each['compound'] for each in pol_scores]\n",
    "df['neg'] = [each['neg'] for each in pol_scores]\n",
    "df['neu'] = [each['neu'] for each in pol_scores]\n",
    "df['pos'] = [each['pos'] for each in pol_scores]"
   ]
  },
  {
   "cell_type": "code",
   "execution_count": 214,
   "metadata": {
    "scrolled": true
   },
   "outputs": [
    {
     "data": {
      "text/html": [
       "<div>\n",
       "<style scoped>\n",
       "    .dataframe tbody tr th:only-of-type {\n",
       "        vertical-align: middle;\n",
       "    }\n",
       "\n",
       "    .dataframe tbody tr th {\n",
       "        vertical-align: top;\n",
       "    }\n",
       "\n",
       "    .dataframe thead th {\n",
       "        text-align: right;\n",
       "    }\n",
       "</style>\n",
       "<table border=\"1\" class=\"dataframe\">\n",
       "  <thead>\n",
       "    <tr style=\"text-align: right;\">\n",
       "      <th></th>\n",
       "      <th>num_comments</th>\n",
       "      <th>score</th>\n",
       "      <th>ups</th>\n",
       "      <th>is_juve</th>\n",
       "      <th>Avg length title</th>\n",
       "      <th>compound</th>\n",
       "      <th>neg</th>\n",
       "      <th>neu</th>\n",
       "      <th>pos</th>\n",
       "    </tr>\n",
       "  </thead>\n",
       "  <tbody>\n",
       "    <tr>\n",
       "      <th>0</th>\n",
       "      <td>504.5</td>\n",
       "      <td>39.5</td>\n",
       "      <td>39.5</td>\n",
       "      <td>0.5</td>\n",
       "      <td>6.5</td>\n",
       "      <td>0.00000</td>\n",
       "      <td>0.0000</td>\n",
       "      <td>1.0000</td>\n",
       "      <td>0.0000</td>\n",
       "    </tr>\n",
       "    <tr>\n",
       "      <th>1</th>\n",
       "      <td>55.0</td>\n",
       "      <td>37.0</td>\n",
       "      <td>37.0</td>\n",
       "      <td>0.5</td>\n",
       "      <td>4.0</td>\n",
       "      <td>0.00000</td>\n",
       "      <td>0.0000</td>\n",
       "      <td>1.0000</td>\n",
       "      <td>0.0000</td>\n",
       "    </tr>\n",
       "    <tr>\n",
       "      <th>2</th>\n",
       "      <td>274.5</td>\n",
       "      <td>3026.5</td>\n",
       "      <td>3026.5</td>\n",
       "      <td>0.5</td>\n",
       "      <td>29.0</td>\n",
       "      <td>0.00000</td>\n",
       "      <td>0.0000</td>\n",
       "      <td>1.0000</td>\n",
       "      <td>0.0000</td>\n",
       "    </tr>\n",
       "    <tr>\n",
       "      <th>3</th>\n",
       "      <td>49.0</td>\n",
       "      <td>787.5</td>\n",
       "      <td>787.5</td>\n",
       "      <td>0.5</td>\n",
       "      <td>9.5</td>\n",
       "      <td>-0.21075</td>\n",
       "      <td>0.1185</td>\n",
       "      <td>0.8815</td>\n",
       "      <td>0.0000</td>\n",
       "    </tr>\n",
       "    <tr>\n",
       "      <th>4</th>\n",
       "      <td>45.0</td>\n",
       "      <td>249.5</td>\n",
       "      <td>249.5</td>\n",
       "      <td>0.5</td>\n",
       "      <td>9.5</td>\n",
       "      <td>0.17000</td>\n",
       "      <td>0.0000</td>\n",
       "      <td>0.9030</td>\n",
       "      <td>0.0970</td>\n",
       "    </tr>\n",
       "    <tr>\n",
       "      <th>5</th>\n",
       "      <td>30.0</td>\n",
       "      <td>410.5</td>\n",
       "      <td>410.5</td>\n",
       "      <td>0.5</td>\n",
       "      <td>22.0</td>\n",
       "      <td>0.31580</td>\n",
       "      <td>0.0240</td>\n",
       "      <td>0.8155</td>\n",
       "      <td>0.1605</td>\n",
       "    </tr>\n",
       "    <tr>\n",
       "      <th>6</th>\n",
       "      <td>335.5</td>\n",
       "      <td>3385.0</td>\n",
       "      <td>3385.0</td>\n",
       "      <td>0.5</td>\n",
       "      <td>9.5</td>\n",
       "      <td>0.29295</td>\n",
       "      <td>0.0000</td>\n",
       "      <td>0.8390</td>\n",
       "      <td>0.1610</td>\n",
       "    </tr>\n",
       "    <tr>\n",
       "      <th>7</th>\n",
       "      <td>82.0</td>\n",
       "      <td>197.5</td>\n",
       "      <td>197.5</td>\n",
       "      <td>0.5</td>\n",
       "      <td>20.0</td>\n",
       "      <td>0.41170</td>\n",
       "      <td>0.0000</td>\n",
       "      <td>0.8360</td>\n",
       "      <td>0.1640</td>\n",
       "    </tr>\n",
       "    <tr>\n",
       "      <th>8</th>\n",
       "      <td>136.0</td>\n",
       "      <td>2057.0</td>\n",
       "      <td>2057.0</td>\n",
       "      <td>0.5</td>\n",
       "      <td>15.0</td>\n",
       "      <td>-0.42150</td>\n",
       "      <td>0.1720</td>\n",
       "      <td>0.8280</td>\n",
       "      <td>0.0000</td>\n",
       "    </tr>\n",
       "    <tr>\n",
       "      <th>9</th>\n",
       "      <td>34.5</td>\n",
       "      <td>170.5</td>\n",
       "      <td>170.5</td>\n",
       "      <td>0.5</td>\n",
       "      <td>31.5</td>\n",
       "      <td>-0.27870</td>\n",
       "      <td>0.0355</td>\n",
       "      <td>0.9645</td>\n",
       "      <td>0.0000</td>\n",
       "    </tr>\n",
       "    <tr>\n",
       "      <th>10</th>\n",
       "      <td>112.5</td>\n",
       "      <td>263.5</td>\n",
       "      <td>263.5</td>\n",
       "      <td>0.5</td>\n",
       "      <td>3.5</td>\n",
       "      <td>0.00000</td>\n",
       "      <td>0.0000</td>\n",
       "      <td>1.0000</td>\n",
       "      <td>0.0000</td>\n",
       "    </tr>\n",
       "  </tbody>\n",
       "</table>\n",
       "</div>"
      ],
      "text/plain": [
       "    num_comments   score     ups  is_juve  Avg length title  compound     neg  \\\n",
       "0          504.5    39.5    39.5      0.5               6.5   0.00000  0.0000   \n",
       "1           55.0    37.0    37.0      0.5               4.0   0.00000  0.0000   \n",
       "2          274.5  3026.5  3026.5      0.5              29.0   0.00000  0.0000   \n",
       "3           49.0   787.5   787.5      0.5               9.5  -0.21075  0.1185   \n",
       "4           45.0   249.5   249.5      0.5               9.5   0.17000  0.0000   \n",
       "5           30.0   410.5   410.5      0.5              22.0   0.31580  0.0240   \n",
       "6          335.5  3385.0  3385.0      0.5               9.5   0.29295  0.0000   \n",
       "7           82.0   197.5   197.5      0.5              20.0   0.41170  0.0000   \n",
       "8          136.0  2057.0  2057.0      0.5              15.0  -0.42150  0.1720   \n",
       "9           34.5   170.5   170.5      0.5              31.5  -0.27870  0.0355   \n",
       "10         112.5   263.5   263.5      0.5               3.5   0.00000  0.0000   \n",
       "\n",
       "       neu     pos  \n",
       "0   1.0000  0.0000  \n",
       "1   1.0000  0.0000  \n",
       "2   1.0000  0.0000  \n",
       "3   0.8815  0.0000  \n",
       "4   0.9030  0.0970  \n",
       "5   0.8155  0.1605  \n",
       "6   0.8390  0.1610  \n",
       "7   0.8360  0.1640  \n",
       "8   0.8280  0.0000  \n",
       "9   0.9645  0.0000  \n",
       "10  1.0000  0.0000  "
      ]
     },
     "execution_count": 214,
     "metadata": {},
     "output_type": "execute_result"
    }
   ],
   "source": [
    "df.groupby('title', as_index=True, level=-1, squeeze=False, observed=True).mean().head(11)"
   ]
  },
  {
   "cell_type": "code",
   "execution_count": null,
   "metadata": {},
   "outputs": [],
   "source": []
  },
  {
   "cell_type": "markdown",
   "metadata": {},
   "source": [
    "### Darth Vader Analysis"
   ]
  },
  {
   "cell_type": "code",
   "execution_count": 18,
   "metadata": {},
   "outputs": [],
   "source": [
    "#instantiate SIA\n",
    "sia = SentimentIntensityAnalyzer()"
   ]
  },
  {
   "cell_type": "code",
   "execution_count": 19,
   "metadata": {},
   "outputs": [
    {
     "data": {
      "text/plain": [
       "{'neg': 0.0, 'neu': 0.0, 'pos': 1.0, 'compound': 0.4019}"
      ]
     },
     "execution_count": 19,
     "metadata": {},
     "output_type": "execute_result"
    }
   ],
   "source": [
    "sia.polarity_scores('Help')"
   ]
  },
  {
   "cell_type": "code",
   "execution_count": 20,
   "metadata": {},
   "outputs": [
    {
     "data": {
      "text/plain": [
       "{'neg': 0.327, 'neu': 0.328, 'pos': 0.344, 'compound': 0.0534}"
      ]
     },
     "execution_count": 20,
     "metadata": {},
     "output_type": "execute_result"
    }
   ],
   "source": [
    "sia.polarity_scores('I fucking hate the way you love')"
   ]
  },
  {
   "cell_type": "code",
   "execution_count": 21,
   "metadata": {},
   "outputs": [
    {
     "data": {
      "text/plain": [
       "{'neg': 0.0, 'neu': 1.0, 'pos': 0.0, 'compound': 0.0}"
      ]
     },
     "execution_count": 21,
     "metadata": {},
     "output_type": "execute_result"
    }
   ],
   "source": [
    "sia.polarity_scores(corpus[44])"
   ]
  },
  {
   "cell_type": "markdown",
   "metadata": {},
   "source": [
    "### DF of sentiment analysis NFL"
   ]
  },
  {
   "cell_type": "code",
   "execution_count": 22,
   "metadata": {},
   "outputs": [],
   "source": [
    "list_of_polarities = [sia.polarity_scores(each) for each in corpus]"
   ]
  },
  {
   "cell_type": "code",
   "execution_count": 23,
   "metadata": {},
   "outputs": [
    {
     "data": {
      "text/plain": [
       "[{'neg': 0.0, 'neu': 1.0, 'pos': 0.0, 'compound': 0.0},\n",
       " {'neg': 0.0, 'neu': 1.0, 'pos': 0.0, 'compound': 0.0},\n",
       " {'neg': 0.0, 'neu': 1.0, 'pos': 0.0, 'compound': 0.0},\n",
       " {'neg': 0.0, 'neu': 1.0, 'pos': 0.0, 'compound': 0.0},\n",
       " {'neg': 0.0, 'neu': 1.0, 'pos': 0.0, 'compound': 0.0},\n",
       " {'neg': 0.048, 'neu': 0.896, 'pos': 0.056, 'compound': 0.0742},\n",
       " {'neg': 0.0, 'neu': 0.678, 'pos': 0.322, 'compound': 0.5859},\n",
       " {'neg': 0.0, 'neu': 0.909, 'pos': 0.091, 'compound': 0.4019},\n",
       " {'neg': 0.141, 'neu': 0.859, 'pos': 0.0, 'compound': -0.4215},\n",
       " {'neg': 0.071, 'neu': 0.929, 'pos': 0.0, 'compound': -0.5574},\n",
       " {'neg': 0.0, 'neu': 1.0, 'pos': 0.0, 'compound': 0.0}]"
      ]
     },
     "execution_count": 23,
     "metadata": {},
     "output_type": "execute_result"
    }
   ],
   "source": [
    "list_of_polarities[0:11]"
   ]
  },
  {
   "cell_type": "code",
   "execution_count": 24,
   "metadata": {},
   "outputs": [],
   "source": [
    "nfl['compound'] = [each['compound'] for each in list_of_polarities]\n",
    "nfl['neg'] = [each['neg'] for each in list_of_polarities]\n",
    "nfl['neu'] = [each['neu'] for each in list_of_polarities]\n",
    "nfl['pos'] = [each['pos'] for each in list_of_polarities]"
   ]
  },
  {
   "cell_type": "code",
   "execution_count": 25,
   "metadata": {},
   "outputs": [
    {
     "data": {
      "text/plain": [
       "(999, 11)"
      ]
     },
     "execution_count": 25,
     "metadata": {},
     "output_type": "execute_result"
    }
   ],
   "source": [
    "#nfl.drop('ups', axis=1, inplace=True)\n",
    "nfl.shape"
   ]
  },
  {
   "cell_type": "code",
   "execution_count": 26,
   "metadata": {},
   "outputs": [],
   "source": [
    "vader_nfl =  nfl[['num_comments', 'score', 'time_of_pull','title', 'url', 'compound', 'neg', 'neu', 'pos']]"
   ]
  },
  {
   "cell_type": "markdown",
   "metadata": {},
   "source": [
    "Vader analysis is the process of statistically working out the corpus' polarity. Vader is based on lexicon of sentiment related words. "
   ]
  },
  {
   "cell_type": "code",
   "execution_count": 100,
   "metadata": {
    "scrolled": true
   },
   "outputs": [],
   "source": [
    "neg_vader_nfl = vader_nfl.sort_values(by='neg', ascending=False).head(50)"
   ]
  },
  {
   "cell_type": "code",
   "execution_count": 101,
   "metadata": {
    "scrolled": true
   },
   "outputs": [],
   "source": [
    "pos_vader_nfl = vader_nfl.sort_values(by='pos', ascending=False).head(50)"
   ]
  },
  {
   "cell_type": "code",
   "execution_count": 110,
   "metadata": {},
   "outputs": [],
   "source": [
    "for each in neg_vader_nfl['title']:\n",
    "    print(len(each.split()))"
   ]
  },
  {
   "cell_type": "code",
   "execution_count": 242,
   "metadata": {
    "scrolled": true
   },
   "outputs": [
    {
     "data": {
      "text/html": [
       "<div>\n",
       "<style scoped>\n",
       "    .dataframe tbody tr th:only-of-type {\n",
       "        vertical-align: middle;\n",
       "    }\n",
       "\n",
       "    .dataframe tbody tr th {\n",
       "        vertical-align: top;\n",
       "    }\n",
       "\n",
       "    .dataframe thead th {\n",
       "        text-align: right;\n",
       "    }\n",
       "</style>\n",
       "<table border=\"1\" class=\"dataframe\">\n",
       "  <thead>\n",
       "    <tr style=\"text-align: right;\">\n",
       "      <th></th>\n",
       "      <th>num_comments</th>\n",
       "      <th>score</th>\n",
       "      <th>time_of_pull</th>\n",
       "      <th>title</th>\n",
       "      <th>url</th>\n",
       "      <th>compound</th>\n",
       "      <th>neg</th>\n",
       "      <th>neu</th>\n",
       "      <th>pos</th>\n",
       "      <th>Avg length title</th>\n",
       "    </tr>\n",
       "  </thead>\n",
       "  <tbody>\n",
       "    <tr>\n",
       "      <th>516</th>\n",
       "      <td>442</td>\n",
       "      <td>560</td>\n",
       "      <td>2018-12-16 14:48:15.491963</td>\n",
       "      <td>What’s the worst “ lose - lose trade “ in NFL history ?</td>\n",
       "      <td>https://www.reddit.com/r/nfl/comments/a5se2t/whats_the_worst_lose_lose_trade_in_nfl_history/</td>\n",
       "      <td>-0.8591</td>\n",
       "      <td>0.613</td>\n",
       "      <td>0.387</td>\n",
       "      <td>0.000</td>\n",
       "      <td>13</td>\n",
       "    </tr>\n",
       "    <tr>\n",
       "      <th>396</th>\n",
       "      <td>40</td>\n",
       "      <td>0</td>\n",
       "      <td>2018-12-16 14:48:03.687481</td>\n",
       "      <td>Offensive holding change.</td>\n",
       "      <td>https://www.reddit.com/r/nfl/comments/a6jai1/offensive_holding_change/</td>\n",
       "      <td>-0.4588</td>\n",
       "      <td>0.600</td>\n",
       "      <td>0.400</td>\n",
       "      <td>0.000</td>\n",
       "      <td>3</td>\n",
       "    </tr>\n",
       "    <tr>\n",
       "      <th>585</th>\n",
       "      <td>39</td>\n",
       "      <td>18</td>\n",
       "      <td>2018-12-16 14:48:21.004881</td>\n",
       "      <td>[PFF] Offensive tackles who allow the lowest pressures per pass blocking snap</td>\n",
       "      <td>https://twitter.com/pff/status/1073333499766149120?s=21</td>\n",
       "      <td>-0.8225</td>\n",
       "      <td>0.541</td>\n",
       "      <td>0.361</td>\n",
       "      <td>0.098</td>\n",
       "      <td>12</td>\n",
       "    </tr>\n",
       "    <tr>\n",
       "      <th>385</th>\n",
       "      <td>10</td>\n",
       "      <td>38</td>\n",
       "      <td>2018-12-16 14:48:03.687458</td>\n",
       "      <td>Suicide, Quarterbacks and the Hilinski Family</td>\n",
       "      <td>https://www.nytimes.com/2018/12/13/sports/football/ryan-hilinski-tyler-suicide-quarterback.html?action=click&amp;amp;module=Top%20Stories&amp;amp;pgtype=Homepage</td>\n",
       "      <td>-0.6705</td>\n",
       "      <td>0.474</td>\n",
       "      <td>0.526</td>\n",
       "      <td>0.000</td>\n",
       "      <td>6</td>\n",
       "    </tr>\n",
       "    <tr>\n",
       "      <th>316</th>\n",
       "      <td>26</td>\n",
       "      <td>0</td>\n",
       "      <td>2018-12-16 14:47:58.067635</td>\n",
       "      <td>Will John Harbaugh get fired?</td>\n",
       "      <td>https://www.reddit.com/r/nfl/comments/a6o097/will_john_harbaugh_get_fired/</td>\n",
       "      <td>-0.5574</td>\n",
       "      <td>0.474</td>\n",
       "      <td>0.526</td>\n",
       "      <td>0.000</td>\n",
       "      <td>5</td>\n",
       "    </tr>\n",
       "  </tbody>\n",
       "</table>\n",
       "</div>"
      ],
      "text/plain": [
       "     num_comments  score                time_of_pull  \\\n",
       "516           442    560  2018-12-16 14:48:15.491963   \n",
       "396            40      0  2018-12-16 14:48:03.687481   \n",
       "585            39     18  2018-12-16 14:48:21.004881   \n",
       "385            10     38  2018-12-16 14:48:03.687458   \n",
       "316            26      0  2018-12-16 14:47:58.067635   \n",
       "\n",
       "                                                                             title  \\\n",
       "516                        What’s the worst “ lose - lose trade “ in NFL history ?   \n",
       "396                                                      Offensive holding change.   \n",
       "585  [PFF] Offensive tackles who allow the lowest pressures per pass blocking snap   \n",
       "385                                  Suicide, Quarterbacks and the Hilinski Family   \n",
       "316                                                  Will John Harbaugh get fired?   \n",
       "\n",
       "                                                                                                                                                           url  \\\n",
       "516                                                               https://www.reddit.com/r/nfl/comments/a5se2t/whats_the_worst_lose_lose_trade_in_nfl_history/   \n",
       "396                                                                                     https://www.reddit.com/r/nfl/comments/a6jai1/offensive_holding_change/   \n",
       "585                                                                                                    https://twitter.com/pff/status/1073333499766149120?s=21   \n",
       "385  https://www.nytimes.com/2018/12/13/sports/football/ryan-hilinski-tyler-suicide-quarterback.html?action=click&amp;module=Top%20Stories&amp;pgtype=Homepage   \n",
       "316                                                                                 https://www.reddit.com/r/nfl/comments/a6o097/will_john_harbaugh_get_fired/   \n",
       "\n",
       "     compound    neg    neu    pos  Avg length title  \n",
       "516   -0.8591  0.613  0.387  0.000                13  \n",
       "396   -0.4588  0.600  0.400  0.000                 3  \n",
       "585   -0.8225  0.541  0.361  0.098                12  \n",
       "385   -0.6705  0.474  0.526  0.000                 6  \n",
       "316   -0.5574  0.474  0.526  0.000                 5  "
      ]
     },
     "execution_count": 242,
     "metadata": {},
     "output_type": "execute_result"
    }
   ],
   "source": [
    "# neg_vader_nfl['Avg length title'] = [(len(each.split())) for each in neg_vader_nfl['title'] ]\n",
    "neg_vader_nfl.head()"
   ]
  },
  {
   "cell_type": "code",
   "execution_count": 112,
   "metadata": {},
   "outputs": [],
   "source": [
    "pos_vader_nfl['Avg length title'] = [(len(each.split())) for each in pos_vader_nfl['title']]\n",
    "pos_vader_fut"
   ]
  },
  {
   "cell_type": "code",
   "execution_count": 245,
   "metadata": {},
   "outputs": [
    {
     "data": {
      "text/plain": [
       "0.42849999999999994"
      ]
     },
     "execution_count": 245,
     "metadata": {},
     "output_type": "execute_result"
    }
   ],
   "source": [
    "pos_vader_nfl['pos'].mean()"
   ]
  },
  {
   "cell_type": "code",
   "execution_count": 246,
   "metadata": {},
   "outputs": [
    {
     "data": {
      "text/plain": [
       "0.36295999999999984"
      ]
     },
     "execution_count": 246,
     "metadata": {},
     "output_type": "execute_result"
    }
   ],
   "source": [
    "neg_vader_nfl['neg'].mean()"
   ]
  },
  {
   "cell_type": "markdown",
   "metadata": {},
   "source": [
    "### DF sent analysis for footy_mob"
   ]
  },
  {
   "cell_type": "code",
   "execution_count": 58,
   "metadata": {},
   "outputs": [],
   "source": [
    "sia = SentimentIntensityAnalyzer()"
   ]
  },
  {
   "cell_type": "code",
   "execution_count": 59,
   "metadata": {},
   "outputs": [
    {
     "data": {
      "text/plain": [
       "'Cristiano Ronaldo to receive two-year prison sentence'"
      ]
     },
     "execution_count": 59,
     "metadata": {},
     "output_type": "execute_result"
    }
   ],
   "source": [
    "footy_mob[11]"
   ]
  },
  {
   "cell_type": "code",
   "execution_count": 60,
   "metadata": {},
   "outputs": [],
   "source": [
    "list_of_polarities_footy = [sia.polarity_scores(each) for each in \\\n",
    "                            footy_mob]\n"
   ]
  },
  {
   "cell_type": "code",
   "execution_count": 61,
   "metadata": {
    "scrolled": true
   },
   "outputs": [
    {
     "data": {
      "text/plain": [
       "[{'neg': 0.0, 'neu': 1.0, 'pos': 0.0, 'compound': 0.0},\n",
       " {'neg': 0.0, 'neu': 1.0, 'pos': 0.0, 'compound': 0.0},\n",
       " {'neg': 0.237, 'neu': 0.763, 'pos': 0.0, 'compound': -0.4215},\n",
       " {'neg': 0.0, 'neu': 0.806, 'pos': 0.194, 'compound': 0.34},\n",
       " {'neg': 0.0, 'neu': 0.735, 'pos': 0.265, 'compound': 0.5574}]"
      ]
     },
     "execution_count": 61,
     "metadata": {},
     "output_type": "execute_result"
    }
   ],
   "source": [
    "list_of_polarities_footy[1:6]"
   ]
  },
  {
   "cell_type": "code",
   "execution_count": 202,
   "metadata": {},
   "outputs": [
    {
     "data": {
      "text/plain": [
       "999"
      ]
     },
     "execution_count": 202,
     "metadata": {},
     "output_type": "execute_result"
    }
   ],
   "source": [
    "#some info\n",
    "len(list_of_polarities)\n",
    "\n",
    "len(list_of_polarities_footy)\n",
    "\n",
    "fut.shape\n",
    "\n",
    "len(footy_mob)\n",
    "\n",
    "fut.shape"
   ]
  },
  {
   "cell_type": "code",
   "execution_count": 62,
   "metadata": {},
   "outputs": [],
   "source": [
    "list_of_polarities_fut = [sia.polarity_scores(each) for each in fut['title']]"
   ]
  },
  {
   "cell_type": "code",
   "execution_count": 63,
   "metadata": {
    "scrolled": true
   },
   "outputs": [],
   "source": [
    "#this column is useless, same as score \n",
    "fut.drop(columns='ups', axis=1, inplace=True)"
   ]
  },
  {
   "cell_type": "code",
   "execution_count": null,
   "metadata": {},
   "outputs": [],
   "source": []
  },
  {
   "cell_type": "code",
   "execution_count": 65,
   "metadata": {},
   "outputs": [],
   "source": [
    "fut['compound'] = [each['compound'] for each in list_of_polarities_footy]\n",
    "fut['neg'] = [each['neg'] for each in list_of_polarities_footy]\n",
    "fut['neu'] = [each['neu'] for each in list_of_polarities_footy]\n",
    "fut['pos'] = [each['pos'] for each in list_of_polarities_footy]"
   ]
  },
  {
   "cell_type": "code",
   "execution_count": 66,
   "metadata": {},
   "outputs": [],
   "source": [
    "vader_fut = fut[['num_comments', 'score', 'time_of_pull','title', \\\n",
    "                'url', 'compound', 'neg', 'neu', 'pos']]"
   ]
  },
  {
   "cell_type": "code",
   "execution_count": 67,
   "metadata": {},
   "outputs": [
    {
     "name": "stderr",
     "output_type": "stream",
     "text": [
      "/anaconda3/lib/python3.6/site-packages/ipykernel_launcher.py:2: SettingWithCopyWarning: \n",
      "A value is trying to be set on a copy of a slice from a DataFrame\n",
      "\n",
      "See the caveats in the documentation: http://pandas.pydata.org/pandas-docs/stable/indexing.html#indexing-view-versus-copy\n",
      "  \n"
     ]
    }
   ],
   "source": [
    "#not sure how i got duplicate post via title, but drop them with this shit\n",
    "vader_fut.drop_duplicates('title',inplace=True)"
   ]
  },
  {
   "cell_type": "code",
   "execution_count": 90,
   "metadata": {
    "scrolled": true
   },
   "outputs": [],
   "source": [
    "pos_vader_fut = vader_fut.sort_values(by='pos', ascending=False).head(50)"
   ]
  },
  {
   "cell_type": "code",
   "execution_count": 92,
   "metadata": {},
   "outputs": [],
   "source": [
    "neg_vader_fut = vader_fut.sort_values(by='neg', ascending=False).head(50)\n",
    "\n",
    "#negative post have longer titles"
   ]
  },
  {
   "cell_type": "markdown",
   "metadata": {},
   "source": [
    "### trying 2 plots"
   ]
  },
  {
   "cell_type": "code",
   "execution_count": 240,
   "metadata": {},
   "outputs": [
    {
     "data": {
      "image/png": "[encoded data removed]",
      "text/plain": [
       "<Figure size 1584x720 with 2 Axes>"
      ]
     },
     "metadata": {
      "needs_background": "light"
     },
     "output_type": "display_data"
    }
   ],
   "source": [
    "fig, ax = plt.subplots(nrows=1, ncols=2, figsize=(22, 10))\n",
    "\n",
    "vader_fut[['neg','pos','neu']] \\\n",
    ".sort_values(by = 'pos',ascending=False) \\\n",
    ".head(15) \\\n",
    ".plot(kind=\"barh\", title=\"Postive Soccer Comments\", ax=ax[0])\n",
    "\n",
    "\n",
    "\n",
    "vader_nfl[['neg','pos','neu']] \\\n",
    ".sort_values(by='pos',ascending=False) \\\n",
    ".head(15) \\\n",
    ".plot(kind=\"barh\", title=\"Positive NFL comments\", ax=ax[1]);\n",
    "\n"
   ]
  },
  {
   "cell_type": "code",
   "execution_count": 270,
   "metadata": {},
   "outputs": [
    {
     "data": {
      "text/plain": [
       "num_comments                                                          6\n",
       "score                                                                 0\n",
       "time_of_pull                                 2018-12-16 15:21:20.202348\n",
       "title                                                             Help?\n",
       "url             https://www.reddit.com/r/football/comments/a0zikg/help/\n",
       "compound                                                         0.4019\n",
       "neg                                                                   0\n",
       "neu                                                                   0\n",
       "pos                                                                   1\n",
       "Name: 134, dtype: object"
      ]
     },
     "execution_count": 270,
     "metadata": {},
     "output_type": "execute_result"
    }
   ],
   "source": [
    "vader_fut.loc[134]\n",
    "#Help?\n",
    "# I'm very slowly starting to get into football. I've watched a couple games but there's a couple things i want opinions on.\n",
    "\n",
    "# What team (as in the Champion's League, i think it's called) should i support?\n",
    "# Ask your dad, uncle, cousin, your team has to be tied down to your culture\n",
    "# Anything football related I should do?\n",
    "# go to different pubs that are affiliated with different clubs and choose which crowd can drannkkk\n",
    "# Is it even worth getting into football even though i'm a teen already?\n",
    "# Only you have the that answer \n",
    "# Any general pointers or suggestions\n",
    "# never ever change clubs, not even for your favorite player, the club is always bugger than the player \n"
   ]
  },
  {
   "cell_type": "code",
   "execution_count": 263,
   "metadata": {},
   "outputs": [
    {
     "data": {
      "text/plain": [
       "num_comments                              12\n",
       "score                                      0\n",
       "time_of_pull      2018-12-16 14:48:35.430971\n",
       "title                       Top 10 MVP Snubs\n",
       "url             https://youtu.be/4k0qHE6RRYc\n",
       "compound                             -0.3182\n",
       "neg                                    0.449\n",
       "neu                                     0.29\n",
       "pos                                    0.261\n",
       "Name: 794, dtype: object"
      ]
     },
     "execution_count": 263,
     "metadata": {},
     "output_type": "execute_result"
    }
   ],
   "source": [
    "vader_nfl.loc[794]\n",
    "#sia.polarity_scores('Oakland Coliseum reaches new low with dead mice in soda machine')"
   ]
  },
  {
   "cell_type": "code",
   "execution_count": 72,
   "metadata": {},
   "outputs": [
    {
     "data": {
      "image/png": "[encoded data removed]",
      "text/plain": [
       "<Figure size 1584x720 with 2 Axes>"
      ]
     },
     "metadata": {
      "needs_background": "light"
     },
     "output_type": "display_data"
    }
   ],
   "source": [
    "fig, ax = plt.subplots(nrows=1, ncols=2, figsize=(22, 10))\n",
    "\n",
    "vader_fut[['neg','pos','neu']] \\\n",
    ".sort_values(by = 'neg',ascending=False) \\\n",
    ".head(15) \\\n",
    ".plot(kind=\"barh\", title=\"Negative Soccer Comments\", ax=ax[0])\n",
    "\n",
    "\n",
    "\n",
    "vader_nfl[['neg','pos','neu']] \\\n",
    ".sort_values(by='neg',ascending=False) \\\n",
    ".head(15) \\\n",
    ".plot(kind=\"barh\", title=\"Negative NFL comments\", ax=ax[1]);"
   ]
  },
  {
   "cell_type": "code",
   "execution_count": 260,
   "metadata": {},
   "outputs": [
    {
     "data": {
      "text/plain": [
       "num_comments                                                                                                                    0\n",
       "score                                                                                                                           0\n",
       "time_of_pull                                                                                           2018-12-16 15:21:31.941959\n",
       "title                                                                                    Zaha reveals racist abuse, death threats\n",
       "url             https://www.msn.com/en-gb/sport/premier-league/zaha-reveals-racist-abuse-death-threats/ar-BBP7UdL?ocid=spartanntp\n",
       "compound                                                                                                                  -0.9423\n",
       "neg                                                                                                                         0.882\n",
       "neu                                                                                                                         0.118\n",
       "pos                                                                                                                             0\n",
       "Name: 293, dtype: object"
      ]
     },
     "execution_count": 260,
     "metadata": {},
     "output_type": "execute_result"
    }
   ],
   "source": [
    "vader_fut.loc[293]"
   ]
  },
  {
   "cell_type": "code",
   "execution_count": 73,
   "metadata": {},
   "outputs": [
    {
     "name": "stdout",
     "output_type": "stream",
     "text": [
      "{'neg': 0.75, 'neu': 0.25, 'pos': 0.0, 'compound': -0.4588}\n"
     ]
    }
   ],
   "source": [
    "vader_fut.loc[179]\n",
    "print(sia.polarity_scores('Penalty Rebounds'))\n",
    "#The word Penalty is really negative in this post "
   ]
  },
  {
   "cell_type": "code",
   "execution_count": 74,
   "metadata": {},
   "outputs": [
    {
     "data": {
      "text/plain": [
       "{'neg': 0.16, 'neu': 0.84, 'pos': 0.0, 'compound': -0.7888}"
      ]
     },
     "execution_count": 74,
     "metadata": {},
     "output_type": "execute_result"
    }
   ],
   "source": [
    "sia.polarity_scores('Player takes a penalty, the keeper saves it, but the player scores the rebound. How would this be recorded? Is it still counted as a penalty, or is it counted as a normal goal? The logical part of me says goal, but I also know football is occasionally weird.')"
   ]
  },
  {
   "cell_type": "code",
   "execution_count": 75,
   "metadata": {},
   "outputs": [
    {
     "data": {
      "text/plain": [
       "{'neg': 0.882, 'neu': 0.118, 'pos': 0.0, 'compound': -0.9423}"
      ]
     },
     "execution_count": 75,
     "metadata": {},
     "output_type": "execute_result"
    }
   ],
   "source": [
    "sia.polarity_scores('Zaha reveals racist abuse, death threats')"
   ]
  },
  {
   "cell_type": "code",
   "execution_count": 76,
   "metadata": {},
   "outputs": [
    {
     "data": {
      "text/plain": [
       "{'neg': 0.245, 'neu': 0.68, 'pos': 0.074, 'compound': -0.9337}"
      ]
     },
     "execution_count": 76,
     "metadata": {},
     "output_type": "execute_result"
    }
   ],
   "source": [
    "#Zahas post\n",
    "sia.polarity_scores('Crystal Palace forward Wilfried Zaha has revealed he suffered racist abuse and threats to his family following Sunday’s 2-2 draw with Arsenal in the Premier League. Zaha was awarded a late penalty after being caught in the area by Gunners midfielder Granit Xhaka, with Luka Milivojevic converting the resulting penalty to earn Palace a point and end Arsenals winning run in all competitions at 11 matches.')"
   ]
  },
  {
   "cell_type": "code",
   "execution_count": 77,
   "metadata": {},
   "outputs": [
    {
     "name": "stdout",
     "output_type": "stream",
     "text": [
      "5\n",
      "{'neg': 0.384, 'neu': 0.616, 'pos': 0.0, 'compound': -0.3595}\n"
     ]
    }
   ],
   "source": [
    "#short post are being heavily weighted. Vader isnt working good. See how it scores on post longer than 5 words. \n",
    "# len('title example'.split()), #how does post 134 score without the exclamation. \n",
    "print(len('Pogba no longer Vice Captain!'.split()))\n",
    "print(sia.polarity_scores('Pogba no longer Vice Captain!'))"
   ]
  },
  {
   "cell_type": "code",
   "execution_count": null,
   "metadata": {
    "scrolled": true
   },
   "outputs": [],
   "source": []
  },
  {
   "cell_type": "code",
   "execution_count": 95,
   "metadata": {},
   "outputs": [],
   "source": [
    "# creating new column\n",
    "pos_vader_fut['Avg length title'] = [(len(each.split())) for each in pos_vader_fut['title']]"
   ]
  },
  {
   "cell_type": "code",
   "execution_count": null,
   "metadata": {},
   "outputs": [],
   "source": []
  },
  {
   "cell_type": "code",
   "execution_count": 99,
   "metadata": {},
   "outputs": [
    {
     "data": {
      "text/plain": [
       "50"
      ]
     },
     "execution_count": 99,
     "metadata": {},
     "output_type": "execute_result"
    }
   ],
   "source": [
    "#creating new column\n",
    "neg_vader_fut['Avg length title'] =[(len(each.split())) for each in neg_vader_fut['title']]\n",
    "len(neg_vader_fut)"
   ]
  },
  {
   "cell_type": "code",
   "execution_count": 243,
   "metadata": {},
   "outputs": [
    {
     "data": {
      "text/plain": [
       "0.5111599999999998"
      ]
     },
     "execution_count": 243,
     "metadata": {},
     "output_type": "execute_result"
    }
   ],
   "source": [
    "pos_vader_fut['pos'].mean()\n",
    "#one 11 length comment.if removed we go down to 3.5"
   ]
  },
  {
   "cell_type": "code",
   "execution_count": 244,
   "metadata": {},
   "outputs": [
    {
     "data": {
      "text/plain": [
       "0.42528000000000005"
      ]
     },
     "execution_count": 244,
     "metadata": {},
     "output_type": "execute_result"
    }
   ],
   "source": [
    "neg_vader_fut['neg'].mean()"
   ]
  },
  {
   "cell_type": "code",
   "execution_count": 163,
   "metadata": {},
   "outputs": [
    {
     "data": {
      "text/plain": [
       "[{'neg': 0.882, 'neu': 0.118, 'pos': 0.0, 'compound': -0.9423},\n",
       " {'neg': 0.603, 'neu': 0.397, 'pos': 0.0, 'compound': -0.8442},\n",
       " {'neg': 0.496, 'neu': 0.504, 'pos': 0.0, 'compound': -0.7845},\n",
       " {'neg': 0.473, 'neu': 0.527, 'pos': 0.0, 'compound': -0.6697},\n",
       " {'neg': 0.467, 'neu': 0.533, 'pos': 0.0, 'compound': -0.6571},\n",
       " {'neg': 0.457, 'neu': 0.543, 'pos': 0.0, 'compound': -0.4939},\n",
       " {'neg': 0.455, 'neu': 0.273, 'pos': 0.273, 'compound': -0.25},\n",
       " {'neg': 0.447, 'neu': 0.553, 'pos': 0.0, 'compound': -0.8439},\n",
       " {'neg': 0.444, 'neu': 0.556, 'pos': 0.0, 'compound': -0.6113},\n",
       " {'neg': 0.444, 'neu': 0.556, 'pos': 0.0, 'compound': -0.6808},\n",
       " {'neg': 0.438, 'neu': 0.562, 'pos': 0.0, 'compound': -0.4404},\n",
       " {'neg': 0.403, 'neu': 0.597, 'pos': 0.0, 'compound': -0.4019},\n",
       " {'neg': 0.39, 'neu': 0.61, 'pos': 0.0, 'compound': -0.4939},\n",
       " {'neg': 0.383, 'neu': 0.617, 'pos': 0.0, 'compound': -0.7351},\n",
       " {'neg': 0.375, 'neu': 0.625, 'pos': 0.0, 'compound': -0.6597},\n",
       " {'neg': 0.372, 'neu': 0.628, 'pos': 0.0, 'compound': -0.7964},\n",
       " {'neg': 0.367, 'neu': 0.633, 'pos': 0.0, 'compound': -0.4404},\n",
       " {'neg': 0.366, 'neu': 0.634, 'pos': 0.0, 'compound': -0.4374},\n",
       " {'neg': 0.365, 'neu': 0.635, 'pos': 0.0, 'compound': -0.5574},\n",
       " {'neg': 0.364, 'neu': 0.504, 'pos': 0.132, 'compound': -0.631},\n",
       " {'neg': 0.358, 'neu': 0.642, 'pos': 0.0, 'compound': -0.5994},\n",
       " {'neg': 0.351, 'neu': 0.649, 'pos': 0.0, 'compound': -0.4019},\n",
       " {'neg': 0.35, 'neu': 0.65, 'pos': 0.0, 'compound': -0.5106},\n",
       " {'neg': 0.346, 'neu': 0.654, 'pos': 0.0, 'compound': -0.6958},\n",
       " {'neg': 0.344, 'neu': 0.521, 'pos': 0.135, 'compound': -0.4588},\n",
       " {'neg': 0.343, 'neu': 0.559, 'pos': 0.098, 'compound': -0.7925},\n",
       " {'neg': 0.341, 'neu': 0.659, 'pos': 0.0, 'compound': -0.4767},\n",
       " {'neg': 0.32, 'neu': 0.68, 'pos': 0.0, 'compound': -0.5096},\n",
       " {'neg': 0.317, 'neu': 0.61, 'pos': 0.074, 'compound': -0.8307},\n",
       " {'neg': 0.313, 'neu': 0.505, 'pos': 0.182, 'compound': -0.3182},\n",
       " {'neg': 0.304, 'neu': 0.696, 'pos': 0.0, 'compound': -0.5423},\n",
       " {'neg': 0.296, 'neu': 0.704, 'pos': 0.0, 'compound': -0.2732},\n",
       " {'neg': 0.286, 'neu': 0.714, 'pos': 0.0, 'compound': -0.5574}]"
      ]
     },
     "execution_count": 163,
     "metadata": {},
     "output_type": "execute_result"
    }
   ],
   "source": [
    "#short post are being heavily weighted. Vader isnt working good. See how it scores on post longer than 5 words.\n",
    "[sia.polarity_scores(each) for each in neg_vader_fut[neg_vader_fut['Avg length title'] > 5]['title']]"
   ]
  },
  {
   "cell_type": "code",
   "execution_count": 215,
   "metadata": {},
   "outputs": [
    {
     "data": {
      "text/plain": [
       "[{'neg': 0.0, 'neu': 0.329, 'pos': 0.671, 'compound': 0.8807},\n",
       " {'neg': 0.0, 'neu': 0.385, 'pos': 0.615, 'compound': 0.8807},\n",
       " {'neg': 0.0, 'neu': 0.397, 'pos': 0.603, 'compound': 0.8225},\n",
       " {'neg': 0.0, 'neu': 0.404, 'pos': 0.596, 'compound': 0.7096},\n",
       " {'neg': 0.0, 'neu': 0.415, 'pos': 0.585, 'compound': 0.9136},\n",
       " {'neg': 0.0, 'neu': 0.444, 'pos': 0.556, 'compound': 0.6124},\n",
       " {'neg': 0.0, 'neu': 0.444, 'pos': 0.556, 'compound': 0.875},\n",
       " {'neg': 0.0, 'neu': 0.485, 'pos': 0.515, 'compound': 0.6486},\n",
       " {'neg': 0.0, 'neu': 0.526, 'pos': 0.474, 'compound': 0.6597},\n",
       " {'neg': 0.0, 'neu': 0.559, 'pos': 0.441, 'compound': 0.6948},\n",
       " {'neg': 0.0, 'neu': 0.577, 'pos': 0.423, 'compound': 0.296},\n",
       " {'neg': 0.0, 'neu': 0.58, 'pos': 0.42, 'compound': 0.7003},\n",
       " {'neg': 0.0, 'neu': 0.585, 'pos': 0.415, 'compound': 0.8176},\n",
       " {'neg': 0.0, 'neu': 0.588, 'pos': 0.412, 'compound': 0.6369},\n",
       " {'neg': 0.0, 'neu': 0.588, 'pos': 0.412, 'compound': 0.6369},\n",
       " {'neg': 0.0, 'neu': 0.588, 'pos': 0.412, 'compound': 0.6808},\n",
       " {'neg': 0.0, 'neu': 0.593, 'pos': 0.407, 'compound': 0.8047},\n",
       " {'neg': 0.0, 'neu': 0.597, 'pos': 0.403, 'compound': 0.6597},\n",
       " {'neg': 0.0, 'neu': 0.605, 'pos': 0.395, 'compound': 0.504},\n",
       " {'neg': 0.0, 'neu': 0.609, 'pos': 0.391, 'compound': 0.5423},\n",
       " {'neg': 0.0, 'neu': 0.61, 'pos': 0.39, 'compound': 0.4939},\n",
       " {'neg': 0.0, 'neu': 0.619, 'pos': 0.381, 'compound': 0.5719},\n",
       " {'neg': 0.0, 'neu': 0.625, 'pos': 0.375, 'compound': 0.6369},\n",
       " {'neg': 0.0, 'neu': 0.625, 'pos': 0.375, 'compound': 0.4588},\n",
       " {'neg': 0.0, 'neu': 0.625, 'pos': 0.375, 'compound': 0.6369},\n",
       " {'neg': 0.0, 'neu': 0.625, 'pos': 0.375, 'compound': 0.6369},\n",
       " {'neg': 0.0, 'neu': 0.625, 'pos': 0.375, 'compound': 0.6369}]"
      ]
     },
     "execution_count": 215,
     "metadata": {},
     "output_type": "execute_result"
    }
   ],
   "source": [
    "[sia.polarity_scores(each) for each in pos_vader_fut[pos_vader_fut['Avg length title'] > 5]['title']]"
   ]
  },
  {
   "cell_type": "code",
   "execution_count": null,
   "metadata": {},
   "outputs": [],
   "source": []
  }
 ],
 "metadata": {
  "kernelspec": {
   "display_name": "Python 3",
   "language": "python",
   "name": "python3"
  },
  "language_info": {
   "codemirror_mode": {
    "name": "ipython",
    "version": 3
   },
   "file_extension": ".py",
   "mimetype": "text/x-python",
   "name": "python",
   "nbconvert_exporter": "python",
   "pygments_lexer": "ipython3",
   "version": "3.6.6"
  }
 },
 "nbformat": 4,
 "nbformat_minor": 2
}
